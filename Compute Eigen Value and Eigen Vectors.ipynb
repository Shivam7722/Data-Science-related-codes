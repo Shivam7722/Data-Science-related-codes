{
 "cells": [
  {
   "cell_type": "markdown",
   "id": "fc86f4da",
   "metadata": {},
   "source": [
    "#### Name :- Shivam Pal || Enroll :- 2021MSBDA038"
   ]
  },
  {
   "cell_type": "markdown",
   "id": "c196bb7d",
   "metadata": {},
   "source": [
    "# Assignment : 1"
   ]
  },
  {
   "cell_type": "markdown",
   "id": "33a50a94",
   "metadata": {},
   "source": [
    "### Que :-  Write a program in python to compute the eigen values and eigen vectors of any dataset."
   ]
  },
  {
   "cell_type": "markdown",
   "id": "d062beb0",
   "metadata": {},
   "source": [
    "### Importing Libraries"
   ]
  },
  {
   "cell_type": "code",
   "execution_count": 4,
   "id": "89766752",
   "metadata": {},
   "outputs": [],
   "source": [
    "import numpy as np\n",
    "import pandas as pd"
   ]
  },
  {
   "cell_type": "markdown",
   "id": "5e424086",
   "metadata": {},
   "source": [
    "### Importing DataSet"
   ]
  },
  {
   "cell_type": "code",
   "execution_count": 5,
   "id": "6e87496b",
   "metadata": {},
   "outputs": [],
   "source": [
    "ds = pd.read_csv(\"https://raw.githubusercontent.com/AdiPersonalWorks/Random/master/student_scores%20-%20student_scores.csv\")"
   ]
  },
  {
   "cell_type": "markdown",
   "id": "217b1ad0",
   "metadata": {},
   "source": [
    "### Now, Visualizing the DataSet"
   ]
  },
  {
   "cell_type": "code",
   "execution_count": 6,
   "id": "02f1af4c",
   "metadata": {},
   "outputs": [
    {
     "data": {
      "text/html": [
       "<div>\n",
       "<style scoped>\n",
       "    .dataframe tbody tr th:only-of-type {\n",
       "        vertical-align: middle;\n",
       "    }\n",
       "\n",
       "    .dataframe tbody tr th {\n",
       "        vertical-align: top;\n",
       "    }\n",
       "\n",
       "    .dataframe thead th {\n",
       "        text-align: right;\n",
       "    }\n",
       "</style>\n",
       "<table border=\"1\" class=\"dataframe\">\n",
       "  <thead>\n",
       "    <tr style=\"text-align: right;\">\n",
       "      <th></th>\n",
       "      <th>Hours</th>\n",
       "      <th>Scores</th>\n",
       "    </tr>\n",
       "  </thead>\n",
       "  <tbody>\n",
       "    <tr>\n",
       "      <th>0</th>\n",
       "      <td>2.5</td>\n",
       "      <td>21</td>\n",
       "    </tr>\n",
       "    <tr>\n",
       "      <th>1</th>\n",
       "      <td>5.1</td>\n",
       "      <td>47</td>\n",
       "    </tr>\n",
       "    <tr>\n",
       "      <th>2</th>\n",
       "      <td>3.2</td>\n",
       "      <td>27</td>\n",
       "    </tr>\n",
       "    <tr>\n",
       "      <th>3</th>\n",
       "      <td>8.5</td>\n",
       "      <td>75</td>\n",
       "    </tr>\n",
       "    <tr>\n",
       "      <th>4</th>\n",
       "      <td>3.5</td>\n",
       "      <td>30</td>\n",
       "    </tr>\n",
       "    <tr>\n",
       "      <th>5</th>\n",
       "      <td>1.5</td>\n",
       "      <td>20</td>\n",
       "    </tr>\n",
       "    <tr>\n",
       "      <th>6</th>\n",
       "      <td>9.2</td>\n",
       "      <td>88</td>\n",
       "    </tr>\n",
       "    <tr>\n",
       "      <th>7</th>\n",
       "      <td>5.5</td>\n",
       "      <td>60</td>\n",
       "    </tr>\n",
       "    <tr>\n",
       "      <th>8</th>\n",
       "      <td>8.3</td>\n",
       "      <td>81</td>\n",
       "    </tr>\n",
       "    <tr>\n",
       "      <th>9</th>\n",
       "      <td>2.7</td>\n",
       "      <td>25</td>\n",
       "    </tr>\n",
       "  </tbody>\n",
       "</table>\n",
       "</div>"
      ],
      "text/plain": [
       "   Hours  Scores\n",
       "0    2.5      21\n",
       "1    5.1      47\n",
       "2    3.2      27\n",
       "3    8.5      75\n",
       "4    3.5      30\n",
       "5    1.5      20\n",
       "6    9.2      88\n",
       "7    5.5      60\n",
       "8    8.3      81\n",
       "9    2.7      25"
      ]
     },
     "execution_count": 6,
     "metadata": {},
     "output_type": "execute_result"
    }
   ],
   "source": [
    "DATA = ds.head(10)\n",
    "DATA"
   ]
  },
  {
   "cell_type": "code",
   "execution_count": 7,
   "id": "3ed8fc50",
   "metadata": {},
   "outputs": [
    {
     "data": {
      "text/plain": [
       "(25, 2)"
      ]
     },
     "execution_count": 7,
     "metadata": {},
     "output_type": "execute_result"
    }
   ],
   "source": [
    "ds.shape"
   ]
  },
  {
   "cell_type": "markdown",
   "id": "9eb829bd",
   "metadata": {},
   "source": [
    "### Converting DataSet into the Matrix form"
   ]
  },
  {
   "cell_type": "code",
   "execution_count": 8,
   "id": "e13f2696",
   "metadata": {},
   "outputs": [
    {
     "data": {
      "text/plain": [
       "array([[ 2.5, 21. ],\n",
       "       [ 5.1, 47. ],\n",
       "       [ 3.2, 27. ],\n",
       "       [ 8.5, 75. ],\n",
       "       [ 3.5, 30. ],\n",
       "       [ 1.5, 20. ],\n",
       "       [ 9.2, 88. ],\n",
       "       [ 5.5, 60. ],\n",
       "       [ 8.3, 81. ],\n",
       "       [ 2.7, 25. ]])"
      ]
     },
     "execution_count": 8,
     "metadata": {},
     "output_type": "execute_result"
    }
   ],
   "source": [
    "Array = DATA.to_numpy()\n",
    "Array"
   ]
  },
  {
   "cell_type": "code",
   "execution_count": 9,
   "id": "5fa3126e",
   "metadata": {},
   "outputs": [
    {
     "data": {
      "text/plain": [
       "(10, 2)"
      ]
     },
     "execution_count": 9,
     "metadata": {},
     "output_type": "execute_result"
    }
   ],
   "source": [
    "DATA.shape"
   ]
  },
  {
   "cell_type": "markdown",
   "id": "5ef06976",
   "metadata": {},
   "source": [
    "### For Reduce the shape of matrix, multiply the original matrix with thier transpose matrix."
   ]
  },
  {
   "cell_type": "code",
   "execution_count": 10,
   "id": "b214486d",
   "metadata": {},
   "outputs": [
    {
     "data": {
      "text/plain": [
       "(10, 2)"
      ]
     },
     "execution_count": 10,
     "metadata": {},
     "output_type": "execute_result"
    }
   ],
   "source": [
    "matrix = Array\n",
    "matrix.shape"
   ]
  },
  {
   "cell_type": "code",
   "execution_count": 11,
   "id": "e5864855",
   "metadata": {},
   "outputs": [
    {
     "data": {
      "text/plain": [
       "array([[ 2.5,  5.1,  3.2,  8.5,  3.5,  1.5,  9.2,  5.5,  8.3,  2.7],\n",
       "       [21. , 47. , 27. , 75. , 30. , 20. , 88. , 60. , 81. , 25. ]])"
      ]
     },
     "execution_count": 11,
     "metadata": {},
     "output_type": "execute_result"
    }
   ],
   "source": [
    "trans_matrix = matrix.transpose()\n",
    "trans_matrix"
   ]
  },
  {
   "cell_type": "code",
   "execution_count": 12,
   "id": "9ee11398",
   "metadata": {},
   "outputs": [
    {
     "data": {
      "text/plain": [
       "(2, 10)"
      ]
     },
     "execution_count": 12,
     "metadata": {},
     "output_type": "execute_result"
    }
   ],
   "source": [
    "trans_matrix.shape"
   ]
  },
  {
   "cell_type": "code",
   "execution_count": 13,
   "id": "3c0ce041",
   "metadata": {},
   "outputs": [
    {
     "data": {
      "text/plain": [
       "array([[  320.32,  3030.5 ],\n",
       "       [ 3030.5 , 28834.  ]])"
      ]
     },
     "execution_count": 13,
     "metadata": {},
     "output_type": "execute_result"
    }
   ],
   "source": [
    "reduced_matrix = np.dot(trans_matrix,matrix)\n",
    "reduced_matrix"
   ]
  },
  {
   "cell_type": "code",
   "execution_count": 14,
   "id": "2f81a446",
   "metadata": {},
   "outputs": [
    {
     "data": {
      "text/plain": [
       "(2, 2)"
      ]
     },
     "execution_count": 14,
     "metadata": {},
     "output_type": "execute_result"
    }
   ],
   "source": [
    "reduced_matrix.shape"
   ]
  },
  {
   "cell_type": "code",
   "execution_count": 15,
   "id": "36828b75",
   "metadata": {},
   "outputs": [
    {
     "data": {
      "text/plain": [
       "(array([1.78978050e+00, 2.91525302e+04]),\n",
       " array([[-0.99452149, -0.1045323 ],\n",
       "        [ 0.1045323 , -0.99452149]]))"
      ]
     },
     "execution_count": 15,
     "metadata": {},
     "output_type": "execute_result"
    }
   ],
   "source": [
    "W = np.linalg.eig(reduced_matrix)\n",
    "W"
   ]
  },
  {
   "cell_type": "markdown",
   "id": "32031af0",
   "metadata": {},
   "source": [
    "### Eigen Value and Eigen Vectors are :-"
   ]
  },
  {
   "cell_type": "code",
   "execution_count": 16,
   "id": "a0211260",
   "metadata": {},
   "outputs": [
    {
     "name": "stdout",
     "output_type": "stream",
     "text": [
      "Eigen_Val : [1.78978050e+00 2.91525302e+04]\n"
     ]
    }
   ],
   "source": [
    "print(\"Eigen_Val :\",W[0])"
   ]
  },
  {
   "cell_type": "code",
   "execution_count": 17,
   "id": "e9686c9d",
   "metadata": {},
   "outputs": [
    {
     "name": "stdout",
     "output_type": "stream",
     "text": [
      "Eigen_Vec : (array([[-0.99452149, -0.1045323 ],\n",
      "       [ 0.1045323 , -0.99452149]]),)\n"
     ]
    }
   ],
   "source": [
    "print(\"Eigen_Vec :\",W[1 :])"
   ]
  },
  {
   "cell_type": "markdown",
   "id": "852d25b8",
   "metadata": {},
   "source": [
    "#                   -----------------                 THANK YOU             ------------------"
   ]
  }
 ],
 "metadata": {
  "kernelspec": {
   "display_name": "Python 3 (ipykernel)",
   "language": "python",
   "name": "python3"
  },
  "language_info": {
   "codemirror_mode": {
    "name": "ipython",
    "version": 3
   },
   "file_extension": ".py",
   "mimetype": "text/x-python",
   "name": "python",
   "nbconvert_exporter": "python",
   "pygments_lexer": "ipython3",
   "version": "3.9.12"
  }
 },
 "nbformat": 4,
 "nbformat_minor": 5
}
