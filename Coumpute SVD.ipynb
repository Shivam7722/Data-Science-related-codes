{
 "cells": [
  {
   "cell_type": "markdown",
   "id": "35158e40",
   "metadata": {},
   "source": [
    "#### Name :- Shivam Pal || Enroll :- 2021MSBDA038\n",
    "    "
   ]
  },
  {
   "cell_type": "markdown",
   "id": "c196bb7d",
   "metadata": {},
   "source": [
    "# Assignment : 2"
   ]
  },
  {
   "cell_type": "markdown",
   "id": "33a50a94",
   "metadata": {},
   "source": [
    "## Que :-  Compute eigen values and eigen vectors and SVD of any dataset."
   ]
  },
  {
   "cell_type": "markdown",
   "id": "d062beb0",
   "metadata": {},
   "source": [
    "### Importing Libraries"
   ]
  },
  {
   "cell_type": "code",
   "execution_count": 383,
   "id": "89766752",
   "metadata": {},
   "outputs": [],
   "source": [
    "import numpy as np\n",
    "import pandas as pd"
   ]
  },
  {
   "cell_type": "markdown",
   "id": "5e424086",
   "metadata": {},
   "source": [
    "### Importing DataSet"
   ]
  },
  {
   "cell_type": "code",
   "execution_count": 384,
   "id": "6e87496b",
   "metadata": {},
   "outputs": [],
   "source": [
    "ds = pd.read_csv(\"https://raw.githubusercontent.com/AdiPersonalWorks/Random/master/student_scores%20-%20student_scores.csv\")"
   ]
  },
  {
   "cell_type": "markdown",
   "id": "217b1ad0",
   "metadata": {},
   "source": [
    "### Now, Visualizing the DataSet"
   ]
  },
  {
   "cell_type": "code",
   "execution_count": 385,
   "id": "02f1af4c",
   "metadata": {},
   "outputs": [
    {
     "data": {
      "text/html": [
       "<div>\n",
       "<style scoped>\n",
       "    .dataframe tbody tr th:only-of-type {\n",
       "        vertical-align: middle;\n",
       "    }\n",
       "\n",
       "    .dataframe tbody tr th {\n",
       "        vertical-align: top;\n",
       "    }\n",
       "\n",
       "    .dataframe thead th {\n",
       "        text-align: right;\n",
       "    }\n",
       "</style>\n",
       "<table border=\"1\" class=\"dataframe\">\n",
       "  <thead>\n",
       "    <tr style=\"text-align: right;\">\n",
       "      <th></th>\n",
       "      <th>Hours</th>\n",
       "      <th>Scores</th>\n",
       "    </tr>\n",
       "  </thead>\n",
       "  <tbody>\n",
       "    <tr>\n",
       "      <th>0</th>\n",
       "      <td>2.5</td>\n",
       "      <td>21</td>\n",
       "    </tr>\n",
       "    <tr>\n",
       "      <th>1</th>\n",
       "      <td>5.1</td>\n",
       "      <td>47</td>\n",
       "    </tr>\n",
       "    <tr>\n",
       "      <th>2</th>\n",
       "      <td>3.2</td>\n",
       "      <td>27</td>\n",
       "    </tr>\n",
       "    <tr>\n",
       "      <th>3</th>\n",
       "      <td>8.5</td>\n",
       "      <td>75</td>\n",
       "    </tr>\n",
       "    <tr>\n",
       "      <th>4</th>\n",
       "      <td>3.5</td>\n",
       "      <td>30</td>\n",
       "    </tr>\n",
       "    <tr>\n",
       "      <th>5</th>\n",
       "      <td>1.5</td>\n",
       "      <td>20</td>\n",
       "    </tr>\n",
       "    <tr>\n",
       "      <th>6</th>\n",
       "      <td>9.2</td>\n",
       "      <td>88</td>\n",
       "    </tr>\n",
       "    <tr>\n",
       "      <th>7</th>\n",
       "      <td>5.5</td>\n",
       "      <td>60</td>\n",
       "    </tr>\n",
       "    <tr>\n",
       "      <th>8</th>\n",
       "      <td>8.3</td>\n",
       "      <td>81</td>\n",
       "    </tr>\n",
       "    <tr>\n",
       "      <th>9</th>\n",
       "      <td>2.7</td>\n",
       "      <td>25</td>\n",
       "    </tr>\n",
       "  </tbody>\n",
       "</table>\n",
       "</div>"
      ],
      "text/plain": [
       "   Hours  Scores\n",
       "0    2.5      21\n",
       "1    5.1      47\n",
       "2    3.2      27\n",
       "3    8.5      75\n",
       "4    3.5      30\n",
       "5    1.5      20\n",
       "6    9.2      88\n",
       "7    5.5      60\n",
       "8    8.3      81\n",
       "9    2.7      25"
      ]
     },
     "execution_count": 385,
     "metadata": {},
     "output_type": "execute_result"
    }
   ],
   "source": [
    "DATA = ds.head(10)\n",
    "DATA"
   ]
  },
  {
   "cell_type": "code",
   "execution_count": 386,
   "id": "3ed8fc50",
   "metadata": {},
   "outputs": [
    {
     "data": {
      "text/plain": [
       "(25, 2)"
      ]
     },
     "execution_count": 386,
     "metadata": {},
     "output_type": "execute_result"
    }
   ],
   "source": [
    "ds.shape"
   ]
  },
  {
   "cell_type": "markdown",
   "id": "9eb829bd",
   "metadata": {},
   "source": [
    "### Converting DataSet into the Matrix form"
   ]
  },
  {
   "cell_type": "code",
   "execution_count": 387,
   "id": "e13f2696",
   "metadata": {},
   "outputs": [
    {
     "data": {
      "text/plain": [
       "array([[ 2.5, 21. ],\n",
       "       [ 5.1, 47. ],\n",
       "       [ 3.2, 27. ],\n",
       "       [ 8.5, 75. ],\n",
       "       [ 3.5, 30. ],\n",
       "       [ 1.5, 20. ],\n",
       "       [ 9.2, 88. ],\n",
       "       [ 5.5, 60. ],\n",
       "       [ 8.3, 81. ],\n",
       "       [ 2.7, 25. ]])"
      ]
     },
     "execution_count": 387,
     "metadata": {},
     "output_type": "execute_result"
    }
   ],
   "source": [
    "Array = DATA.to_numpy()\n",
    "Array"
   ]
  },
  {
   "cell_type": "code",
   "execution_count": 388,
   "id": "5fa3126e",
   "metadata": {},
   "outputs": [
    {
     "data": {
      "text/plain": [
       "(10, 2)"
      ]
     },
     "execution_count": 388,
     "metadata": {},
     "output_type": "execute_result"
    }
   ],
   "source": [
    "DATA.shape"
   ]
  },
  {
   "cell_type": "markdown",
   "id": "5ef06976",
   "metadata": {},
   "source": [
    "### For Reduce the shape of matrix, multiply the original matrix with thier transpose matrix."
   ]
  },
  {
   "cell_type": "code",
   "execution_count": 389,
   "id": "b214486d",
   "metadata": {},
   "outputs": [
    {
     "data": {
      "text/plain": [
       "(10, 2)"
      ]
     },
     "execution_count": 389,
     "metadata": {},
     "output_type": "execute_result"
    }
   ],
   "source": [
    "matrix = Array\n",
    "matrix.shape"
   ]
  },
  {
   "cell_type": "code",
   "execution_count": 390,
   "id": "e5864855",
   "metadata": {},
   "outputs": [
    {
     "data": {
      "text/plain": [
       "array([[ 2.5,  5.1,  3.2,  8.5,  3.5,  1.5,  9.2,  5.5,  8.3,  2.7],\n",
       "       [21. , 47. , 27. , 75. , 30. , 20. , 88. , 60. , 81. , 25. ]])"
      ]
     },
     "execution_count": 390,
     "metadata": {},
     "output_type": "execute_result"
    }
   ],
   "source": [
    "trans_matrix = matrix.transpose()\n",
    "trans_matrix"
   ]
  },
  {
   "cell_type": "code",
   "execution_count": 391,
   "id": "9ee11398",
   "metadata": {},
   "outputs": [
    {
     "data": {
      "text/plain": [
       "(2, 10)"
      ]
     },
     "execution_count": 391,
     "metadata": {},
     "output_type": "execute_result"
    }
   ],
   "source": [
    "trans_matrix.shape"
   ]
  },
  {
   "cell_type": "code",
   "execution_count": 392,
   "id": "3c0ce041",
   "metadata": {},
   "outputs": [
    {
     "data": {
      "text/plain": [
       "array([[  320.32,  3030.5 ],\n",
       "       [ 3030.5 , 28834.  ]])"
      ]
     },
     "execution_count": 392,
     "metadata": {},
     "output_type": "execute_result"
    }
   ],
   "source": [
    "reduced_matrix = np.dot(trans_matrix,matrix)\n",
    "reduced_matrix"
   ]
  },
  {
   "cell_type": "code",
   "execution_count": 393,
   "id": "2f81a446",
   "metadata": {},
   "outputs": [
    {
     "data": {
      "text/plain": [
       "(2, 2)"
      ]
     },
     "execution_count": 393,
     "metadata": {},
     "output_type": "execute_result"
    }
   ],
   "source": [
    "reduced_matrix.shape"
   ]
  },
  {
   "cell_type": "code",
   "execution_count": 394,
   "id": "36828b75",
   "metadata": {},
   "outputs": [
    {
     "data": {
      "text/plain": [
       "(array([1.78978050e+00, 2.91525302e+04]),\n",
       " array([[-0.99452149, -0.1045323 ],\n",
       "        [ 0.1045323 , -0.99452149]]))"
      ]
     },
     "execution_count": 394,
     "metadata": {},
     "output_type": "execute_result"
    }
   ],
   "source": [
    "W = np.linalg.eig(reduced_matrix)\n",
    "W"
   ]
  },
  {
   "cell_type": "markdown",
   "id": "32031af0",
   "metadata": {},
   "source": [
    "### Eigen Value and Eigen Vectors are :-"
   ]
  },
  {
   "cell_type": "code",
   "execution_count": 395,
   "id": "a0211260",
   "metadata": {},
   "outputs": [
    {
     "name": "stdout",
     "output_type": "stream",
     "text": [
      "Eigen_Val = [1.78978050e+00 2.91525302e+04]\n",
      "Eigen_Val = [[-0.99452149 -0.1045323 ]\n",
      " [ 0.1045323  -0.99452149]]\n"
     ]
    }
   ],
   "source": [
    "ev, D = W\n",
    "print(\"Eigen_Val =\",ev)\n",
    "print(\"Eigen_Val =\",D)"
   ]
  },
  {
   "cell_type": "markdown",
   "id": "03619e71",
   "metadata": {},
   "source": [
    "# Now, STEPS for compute SVD :"
   ]
  },
  {
   "cell_type": "code",
   "execution_count": 396,
   "id": "0d820656",
   "metadata": {},
   "outputs": [
    {
     "data": {
      "text/plain": [
       "array([-0.99452149,  0.1045323 ])"
      ]
     },
     "execution_count": 396,
     "metadata": {},
     "output_type": "execute_result"
    }
   ],
   "source": [
    "D[:,0]      #Use for convert convert column vector as a row vector"
   ]
  },
  {
   "cell_type": "markdown",
   "id": "0dfefc33",
   "metadata": {},
   "source": [
    "### Normalizing all eigen vectors"
   ]
  },
  {
   "cell_type": "code",
   "execution_count": 397,
   "id": "d9cc1217",
   "metadata": {},
   "outputs": [],
   "source": [
    "from numpy.linalg import norm\n",
    "x0 = matrix@D[:,0]/norm(matrix@D[:,0])\n",
    "x1 = matrix@D[:,1]/norm(matrix@D[:,1])"
   ]
  },
  {
   "cell_type": "markdown",
   "id": "e6e60c6d",
   "metadata": {},
   "source": [
    "### An Orthogonal Matrix 'U' is"
   ]
  },
  {
   "cell_type": "code",
   "execution_count": 398,
   "id": "072b1b51",
   "metadata": {},
   "outputs": [],
   "source": [
    "U = np.array([x0,x1]).T"
   ]
  },
  {
   "cell_type": "markdown",
   "id": "7e42123f",
   "metadata": {},
   "source": [
    "### A Diagonal matrix 'V' is"
   ]
  },
  {
   "cell_type": "code",
   "execution_count": 399,
   "id": "6521fcf4",
   "metadata": {},
   "outputs": [
    {
     "data": {
      "text/plain": [
       "array([[  1.337827,  -0.      ],\n",
       "       [ -0.      , 170.74112 ]])"
      ]
     },
     "execution_count": 399,
     "metadata": {},
     "output_type": "execute_result"
    }
   ],
   "source": [
    "V = np.round(U.T@matrix@D, decimals = 6)\n",
    "V"
   ]
  },
  {
   "cell_type": "markdown",
   "id": "764795c4",
   "metadata": {},
   "source": [
    "### Now SVD is"
   ]
  },
  {
   "cell_type": "code",
   "execution_count": 400,
   "id": "49f61fb9",
   "metadata": {},
   "outputs": [
    {
     "data": {
      "text/plain": [
       "array([[ 2.50000004, 20.99999994],\n",
       "       [ 5.10000001, 46.99999987],\n",
       "       [ 3.20000005, 26.99999992],\n",
       "       [ 8.50000008, 74.99999978],\n",
       "       [ 3.50000005, 29.99999991],\n",
       "       [ 1.4999999 , 19.99999996],\n",
       "       [ 9.19999997, 87.99999976],\n",
       "       [ 5.49999985, 59.99999985],\n",
       "       [ 8.29999994, 80.99999978],\n",
       "       [ 2.7       , 24.99999993]])"
      ]
     },
     "execution_count": 400,
     "metadata": {},
     "output_type": "execute_result"
    }
   ],
   "source": [
    "U@V@D.T"
   ]
  },
  {
   "cell_type": "code",
   "execution_count": 401,
   "id": "02eabbfb",
   "metadata": {},
   "outputs": [
    {
     "data": {
      "text/plain": [
       "array([[-0.99452149, -0.1045323 ],\n",
       "       [ 0.1045323 , -0.99452149]])"
      ]
     },
     "execution_count": 401,
     "metadata": {},
     "output_type": "execute_result"
    }
   ],
   "source": [
    "D"
   ]
  },
  {
   "cell_type": "code",
   "execution_count": 402,
   "id": "89cbf320",
   "metadata": {},
   "outputs": [
    {
     "name": "stdout",
     "output_type": "stream",
     "text": [
      "V = 1.337827, 170.74112, \n"
     ]
    }
   ],
   "source": [
    "def printPrincipalDiagonal(V, n):\n",
    " \n",
    "    print(\"V = \", end = \"\")\n",
    " \n",
    "    for i in range(n):\n",
    "         \n",
    "        print(V[i][i], end = \", \")\n",
    " \n",
    "    print()\n",
    "n = 2\n",
    "printPrincipalDiagonal(V, n)"
   ]
  },
  {
   "cell_type": "code",
   "execution_count": 403,
   "id": "357ca536",
   "metadata": {},
   "outputs": [
    {
     "data": {
      "text/plain": [
       "array([[-0.21761063, -0.12384997],\n",
       "       [-0.11888033, -0.27688482],\n",
       "       [-0.2691653 , -0.15922693],\n",
       "       [-0.4585869 , -0.44205893],\n",
       "       [-0.25777334, -0.17688479],\n",
       "       [ 0.44763931, -0.11741301],\n",
       "       [ 0.03680976, -0.51820902],\n",
       "       [ 0.59953208, -0.35285125],\n",
       "       [ 0.15890569, -0.47688488],\n",
       "       [-0.05374419, -0.14727135]])"
      ]
     },
     "execution_count": 403,
     "metadata": {},
     "output_type": "execute_result"
    }
   ],
   "source": [
    "U"
   ]
  },
  {
   "cell_type": "markdown",
   "id": "258351b5",
   "metadata": {},
   "source": [
    "## Now Check my values by importing SVD function "
   ]
  },
  {
   "cell_type": "code",
   "execution_count": 404,
   "id": "6d9ec83e",
   "metadata": {},
   "outputs": [
    {
     "name": "stdout",
     "output_type": "stream",
     "text": [
      "(array([[-0.12384997, -0.21761063, -0.16227485, -0.45000613, -0.1801972 ,\n",
      "        -0.11850856, -0.52650114, -0.35747318, -0.48429283, -0.14974238],\n",
      "       [-0.27688482, -0.11888033, -0.26455698, -0.45037612, -0.25330872,\n",
      "         0.44077976,  0.03731596,  0.59075659,  0.15738655, -0.05258102],\n",
      "       [-0.15922693, -0.2691653 ,  0.92658025, -0.14294431, -0.0728633 ,\n",
      "         0.08213756, -0.04641958,  0.08955697, -0.01634684, -0.02673401],\n",
      "       [-0.44205893, -0.4585869 , -0.13996927,  0.70334559, -0.14235725,\n",
      "         0.10255758, -0.16482939,  0.07071784, -0.11186645, -0.06729082],\n",
      "       [-0.17688479, -0.25777334, -0.07243829, -0.14448228,  0.92761804,\n",
      "         0.07332077, -0.0567039 ,  0.07407181, -0.02765723, -0.0287087 ],\n",
      "       [-0.11741301,  0.44763931,  0.08879598,  0.11884947,  0.0804042 ,\n",
      "         0.77973271, -0.1147014 , -0.33215776, -0.16084939, -0.00420272],\n",
      "       [-0.51820902,  0.03680976, -0.03701278, -0.14839583, -0.04763711,\n",
      "        -0.12943493,  0.7352381 , -0.27109257, -0.26341426, -0.06509357],\n",
      "       [-0.35285125,  0.59953208,  0.10188214,  0.09834322,  0.08682199,\n",
      "        -0.3378245 , -0.25182563,  0.46137348, -0.31165468, -0.03053186],\n",
      "       [-0.47688488,  0.15890569, -0.0064017 , -0.0931662 , -0.0178821 ,\n",
      "        -0.17345789, -0.25922087, -0.32652988,  0.72879797, -0.05690124],\n",
      "       [-0.14727135, -0.05374419, -0.02472232, -0.06445744, -0.026867  ,\n",
      "        -0.00887779, -0.06724694, -0.03747362, -0.06007461,  0.97995955]]), array([170.74112047,   1.33782678]), array([[-0.1045323 , -0.99452149],\n",
      "       [-0.99452149,  0.1045323 ]]))\n"
     ]
    }
   ],
   "source": [
    "from numpy.linalg import svd\n",
    "s,v,d = svd(matrix)\n",
    "print(svd(matrix))"
   ]
  },
  {
   "cell_type": "markdown",
   "id": "8f0a14bc",
   "metadata": {},
   "source": [
    "# Now comparing the value of \"UVD\" by \"svd\" \n",
    "Where,                \n",
    "\"UVD\" value is find without using inbuilt function               \n",
    "\"svd\" value is find by using inbuilt function svd()"
   ]
  },
  {
   "cell_type": "code",
   "execution_count": 405,
   "id": "6f078056",
   "metadata": {},
   "outputs": [
    {
     "name": "stdout",
     "output_type": "stream",
     "text": [
      "V = 1.337827, 170.74112, \n",
      "v =  [170.74112047   1.33782678]\n"
     ]
    }
   ],
   "source": [
    "#comparing 'V' & 'v'\n",
    "printPrincipalDiagonal(V, n) \n",
    "print(\"v = \",v)\n"
   ]
  },
  {
   "cell_type": "code",
   "execution_count": 406,
   "id": "eeb6ab45",
   "metadata": {},
   "outputs": [
    {
     "name": "stdout",
     "output_type": "stream",
     "text": [
      "D =  [[-0.99452149 -0.1045323 ]\n",
      " [ 0.1045323  -0.99452149]]\n",
      "\n",
      "d =  [[-0.1045323  -0.99452149]\n",
      " [-0.99452149  0.1045323 ]]\n"
     ]
    }
   ],
   "source": [
    "#comparing 'D' & 'd'\n",
    "print(\"D = \",D)\n",
    "print(\"\")\n",
    "print(\"d = \",d)"
   ]
  },
  {
   "cell_type": "code",
   "execution_count": 407,
   "id": "d79949c5",
   "metadata": {},
   "outputs": [
    {
     "name": "stdout",
     "output_type": "stream",
     "text": [
      "U =  [[-0.21761063 -0.12384997]\n",
      " [-0.11888033 -0.27688482]\n",
      " [-0.2691653  -0.15922693]\n",
      " [-0.4585869  -0.44205893]\n",
      " [-0.25777334 -0.17688479]\n",
      " [ 0.44763931 -0.11741301]\n",
      " [ 0.03680976 -0.51820902]\n",
      " [ 0.59953208 -0.35285125]\n",
      " [ 0.15890569 -0.47688488]\n",
      " [-0.05374419 -0.14727135]]\n",
      "\n",
      "s =  [[-0.12384997 -0.21761063 -0.16227485 -0.45000613 -0.1801972  -0.11850856\n",
      "  -0.52650114 -0.35747318 -0.48429283 -0.14974238]\n",
      " [-0.27688482 -0.11888033 -0.26455698 -0.45037612 -0.25330872  0.44077976\n",
      "   0.03731596  0.59075659  0.15738655 -0.05258102]\n",
      " [-0.15922693 -0.2691653   0.92658025 -0.14294431 -0.0728633   0.08213756\n",
      "  -0.04641958  0.08955697 -0.01634684 -0.02673401]\n",
      " [-0.44205893 -0.4585869  -0.13996927  0.70334559 -0.14235725  0.10255758\n",
      "  -0.16482939  0.07071784 -0.11186645 -0.06729082]\n",
      " [-0.17688479 -0.25777334 -0.07243829 -0.14448228  0.92761804  0.07332077\n",
      "  -0.0567039   0.07407181 -0.02765723 -0.0287087 ]\n",
      " [-0.11741301  0.44763931  0.08879598  0.11884947  0.0804042   0.77973271\n",
      "  -0.1147014  -0.33215776 -0.16084939 -0.00420272]\n",
      " [-0.51820902  0.03680976 -0.03701278 -0.14839583 -0.04763711 -0.12943493\n",
      "   0.7352381  -0.27109257 -0.26341426 -0.06509357]\n",
      " [-0.35285125  0.59953208  0.10188214  0.09834322  0.08682199 -0.3378245\n",
      "  -0.25182563  0.46137348 -0.31165468 -0.03053186]\n",
      " [-0.47688488  0.15890569 -0.0064017  -0.0931662  -0.0178821  -0.17345789\n",
      "  -0.25922087 -0.32652988  0.72879797 -0.05690124]\n",
      " [-0.14727135 -0.05374419 -0.02472232 -0.06445744 -0.026867   -0.00887779\n",
      "  -0.06724694 -0.03747362 -0.06007461  0.97995955]]\n"
     ]
    }
   ],
   "source": [
    "#comparing 'U' & 's'\n",
    "print(\"U = \",U)\n",
    "print(\"\")\n",
    "print(\"s = \",s)"
   ]
  },
  {
   "cell_type": "markdown",
   "id": "c143d19b",
   "metadata": {},
   "source": [
    "#                   -----------------                 THANK YOU             ------------------"
   ]
  }
 ],
 "metadata": {
  "kernelspec": {
   "display_name": "Python 3 (ipykernel)",
   "language": "python",
   "name": "python3"
  },
  "language_info": {
   "codemirror_mode": {
    "name": "ipython",
    "version": 3
   },
   "file_extension": ".py",
   "mimetype": "text/x-python",
   "name": "python",
   "nbconvert_exporter": "python",
   "pygments_lexer": "ipython3",
   "version": "3.9.12"
  }
 },
 "nbformat": 4,
 "nbformat_minor": 5
}
