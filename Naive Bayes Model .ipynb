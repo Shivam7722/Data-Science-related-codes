{
 "cells": [
  {
   "cell_type": "markdown",
   "id": "299fec22",
   "metadata": {},
   "source": [
    "#### Name :- Shivam Pal || Enroll :- 2021MSBDA038"
   ]
  },
  {
   "cell_type": "markdown",
   "id": "29ffae7b",
   "metadata": {},
   "source": [
    "# Assignment : 3"
   ]
  },
  {
   "cell_type": "markdown",
   "id": "237a36fc",
   "metadata": {},
   "source": [
    "## Que :- Write a program in python to design a Naive Bayes Model."
   ]
  },
  {
   "cell_type": "markdown",
   "id": "8d26f442",
   "metadata": {},
   "source": [
    "### Importing libraries"
   ]
  },
  {
   "cell_type": "code",
   "execution_count": 1,
   "id": "1d77ca54",
   "metadata": {},
   "outputs": [],
   "source": [
    "import numpy as np\n",
    "import pandas as pd"
   ]
  },
  {
   "cell_type": "code",
   "execution_count": 2,
   "id": "31495d2a",
   "metadata": {},
   "outputs": [],
   "source": [
    "weather = [\"Sunny\", \"Sunny\", \"Overcast\", \"Rainy\", \"Rainy\", \"Rainy\", \"Overcast\", \"Sunny\", \"Sunny\", \"Rainy\", \"Sunny\", \"Overcast\", \"Overcast\", \"Rainy\"]\n",
    "temperature = [\"Hot\", \"Hot\", \"Hot\", \"Mild\", \"Cool\", \"Cool\", \"Cool\", \"Mild\", \"Cool\", \"Mild\", \"Mild\", \"Mild\", \"Hot\", \"Mild\"]\n",
    "play = [\"No\", \"No\", \"Yes\", \"Yes\", \"Yes\", \"No\", \"Yes\", \"No\", \"Yes\", \"Yes\", \"Yes\", \"Yes\", \"Yes\", \"No\",]\n"
   ]
  },
  {
   "cell_type": "markdown",
   "id": "a9665217",
   "metadata": {},
   "source": [
    "### Covert all entries in a proper dataset"
   ]
  },
  {
   "cell_type": "code",
   "execution_count": 3,
   "id": "84bd1180",
   "metadata": {},
   "outputs": [],
   "source": [
    "df = pd.DataFrame(list(zip(weather,temperature,play)), columns = [\"weather\",\"temperature\",\"play\"])"
   ]
  },
  {
   "cell_type": "code",
   "execution_count": 4,
   "id": "588ca9a1",
   "metadata": {},
   "outputs": [
    {
     "data": {
      "text/html": [
       "<div>\n",
       "<style scoped>\n",
       "    .dataframe tbody tr th:only-of-type {\n",
       "        vertical-align: middle;\n",
       "    }\n",
       "\n",
       "    .dataframe tbody tr th {\n",
       "        vertical-align: top;\n",
       "    }\n",
       "\n",
       "    .dataframe thead th {\n",
       "        text-align: right;\n",
       "    }\n",
       "</style>\n",
       "<table border=\"1\" class=\"dataframe\">\n",
       "  <thead>\n",
       "    <tr style=\"text-align: right;\">\n",
       "      <th></th>\n",
       "      <th>weather</th>\n",
       "      <th>temperature</th>\n",
       "      <th>play</th>\n",
       "    </tr>\n",
       "  </thead>\n",
       "  <tbody>\n",
       "    <tr>\n",
       "      <th>0</th>\n",
       "      <td>Sunny</td>\n",
       "      <td>Hot</td>\n",
       "      <td>No</td>\n",
       "    </tr>\n",
       "    <tr>\n",
       "      <th>1</th>\n",
       "      <td>Sunny</td>\n",
       "      <td>Hot</td>\n",
       "      <td>No</td>\n",
       "    </tr>\n",
       "    <tr>\n",
       "      <th>2</th>\n",
       "      <td>Overcast</td>\n",
       "      <td>Hot</td>\n",
       "      <td>Yes</td>\n",
       "    </tr>\n",
       "    <tr>\n",
       "      <th>3</th>\n",
       "      <td>Rainy</td>\n",
       "      <td>Mild</td>\n",
       "      <td>Yes</td>\n",
       "    </tr>\n",
       "    <tr>\n",
       "      <th>4</th>\n",
       "      <td>Rainy</td>\n",
       "      <td>Cool</td>\n",
       "      <td>Yes</td>\n",
       "    </tr>\n",
       "    <tr>\n",
       "      <th>5</th>\n",
       "      <td>Rainy</td>\n",
       "      <td>Cool</td>\n",
       "      <td>No</td>\n",
       "    </tr>\n",
       "    <tr>\n",
       "      <th>6</th>\n",
       "      <td>Overcast</td>\n",
       "      <td>Cool</td>\n",
       "      <td>Yes</td>\n",
       "    </tr>\n",
       "    <tr>\n",
       "      <th>7</th>\n",
       "      <td>Sunny</td>\n",
       "      <td>Mild</td>\n",
       "      <td>No</td>\n",
       "    </tr>\n",
       "    <tr>\n",
       "      <th>8</th>\n",
       "      <td>Sunny</td>\n",
       "      <td>Cool</td>\n",
       "      <td>Yes</td>\n",
       "    </tr>\n",
       "    <tr>\n",
       "      <th>9</th>\n",
       "      <td>Rainy</td>\n",
       "      <td>Mild</td>\n",
       "      <td>Yes</td>\n",
       "    </tr>\n",
       "    <tr>\n",
       "      <th>10</th>\n",
       "      <td>Sunny</td>\n",
       "      <td>Mild</td>\n",
       "      <td>Yes</td>\n",
       "    </tr>\n",
       "    <tr>\n",
       "      <th>11</th>\n",
       "      <td>Overcast</td>\n",
       "      <td>Mild</td>\n",
       "      <td>Yes</td>\n",
       "    </tr>\n",
       "    <tr>\n",
       "      <th>12</th>\n",
       "      <td>Overcast</td>\n",
       "      <td>Hot</td>\n",
       "      <td>Yes</td>\n",
       "    </tr>\n",
       "    <tr>\n",
       "      <th>13</th>\n",
       "      <td>Rainy</td>\n",
       "      <td>Mild</td>\n",
       "      <td>No</td>\n",
       "    </tr>\n",
       "  </tbody>\n",
       "</table>\n",
       "</div>"
      ],
      "text/plain": [
       "     weather temperature play\n",
       "0      Sunny         Hot   No\n",
       "1      Sunny         Hot   No\n",
       "2   Overcast         Hot  Yes\n",
       "3      Rainy        Mild  Yes\n",
       "4      Rainy        Cool  Yes\n",
       "5      Rainy        Cool   No\n",
       "6   Overcast        Cool  Yes\n",
       "7      Sunny        Mild   No\n",
       "8      Sunny        Cool  Yes\n",
       "9      Rainy        Mild  Yes\n",
       "10     Sunny        Mild  Yes\n",
       "11  Overcast        Mild  Yes\n",
       "12  Overcast         Hot  Yes\n",
       "13     Rainy        Mild   No"
      ]
     },
     "execution_count": 4,
     "metadata": {},
     "output_type": "execute_result"
    }
   ],
   "source": [
    "df.head(14)"
   ]
  },
  {
   "cell_type": "markdown",
   "id": "d8a1bfd8",
   "metadata": {},
   "source": [
    "### Now, Encode the entries in numbers"
   ]
  },
  {
   "cell_type": "code",
   "execution_count": 5,
   "id": "83b3734d",
   "metadata": {},
   "outputs": [
    {
     "name": "stdout",
     "output_type": "stream",
     "text": [
      "Weather =  [2 2 0 1 1 1 0 2 2 1 2 0 0 1]\n",
      "Temperature =  [1 1 1 2 0 0 0 2 0 2 2 2 1 2]\n",
      "Play =  [0 0 1 1 1 0 1 0 1 1 1 1 1 0]\n"
     ]
    }
   ],
   "source": [
    "from sklearn import preprocessing\n",
    "\n",
    "label_encode = preprocessing.LabelEncoder()\n",
    "weather_encoded = label_encode.fit_transform(weather)\n",
    "temperature_encoded = label_encode.fit_transform(temperature)\n",
    "play_encoded = label_encode.fit_transform(play)\n",
    "\n",
    "print(\"Weather = \",weather_encoded)\n",
    "print(\"Temperature = \",temperature_encoded)\n",
    "print(\"Play = \",play_encoded)"
   ]
  },
  {
   "cell_type": "markdown",
   "id": "1191f0c3",
   "metadata": {},
   "source": [
    "### Now combine the encoded value of  'Weather' and  'Temperature' for pridiction of playing throgh  'Play'"
   ]
  },
  {
   "cell_type": "code",
   "execution_count": 6,
   "id": "f8febc47",
   "metadata": {},
   "outputs": [
    {
     "name": "stdout",
     "output_type": "stream",
     "text": [
      "[(2, 1), (2, 1), (0, 1), (1, 2), (1, 0), (1, 0), (0, 0), (2, 2), (2, 0), (1, 2), (2, 2), (0, 2), (0, 1), (1, 2)]\n"
     ]
    }
   ],
   "source": [
    "list = []\n",
    "for i in zip(weather_encoded,temperature_encoded):\n",
    "    list.append(i)\n",
    "print(list)"
   ]
  },
  {
   "cell_type": "markdown",
   "id": "1cdaf9e7",
   "metadata": {},
   "source": [
    "### Now Import the Naive Bayes Model "
   ]
  },
  {
   "cell_type": "code",
   "execution_count": 7,
   "id": "a1fded40",
   "metadata": {},
   "outputs": [],
   "source": [
    "from sklearn.naive_bayes import GaussianNB\n",
    "my_model = GaussianNB()"
   ]
  },
  {
   "cell_type": "markdown",
   "id": "21acc806",
   "metadata": {},
   "source": [
    "### Now Train the model"
   ]
  },
  {
   "cell_type": "code",
   "execution_count": 8,
   "id": "c654c25e",
   "metadata": {},
   "outputs": [
    {
     "data": {
      "text/plain": [
       "GaussianNB()"
      ]
     },
     "execution_count": 8,
     "metadata": {},
     "output_type": "execute_result"
    }
   ],
   "source": [
    "my_model.fit(list,play_encoded)"
   ]
  },
  {
   "cell_type": "markdown",
   "id": "44ea77a9",
   "metadata": {},
   "source": [
    "### Now, Prediction for playing game is - "
   ]
  },
  {
   "cell_type": "code",
   "execution_count": 18,
   "id": "b06015cd",
   "metadata": {
    "scrolled": true
   },
   "outputs": [
    {
     "name": "stdout",
     "output_type": "stream",
     "text": [
      "Enter the weather type : \n",
      "Enter 0 for Overcast \n",
      "Enter 1 for Rainy \n",
      "Enter 2 for Sunny \n",
      "0\n",
      "Now, Enter the weather type : \n",
      "Enter 0 for Mild \n",
      "Enter 1 for Hot \n",
      "Enter 2 for Cool \n",
      "2\n",
      "\u001b[92m\u001b[1m\n",
      "\n",
      "*PLAYERS CAN PLAY THE GAME*\n"
     ]
    },
    {
     "name": "stderr",
     "output_type": "stream",
     "text": [
      "C:\\Users\\shiva\\anaconda3\\lib\\site-packages\\sklearn\\base.py:566: FutureWarning: Arrays of bytes/strings is being converted to decimal numbers if dtype='numeric'. This behavior is deprecated in 0.24 and will be removed in 1.1 (renaming of 0.26). Please convert your data to numeric values explicitly instead.\n",
      "  X = check_array(X, **check_params)\n"
     ]
    }
   ],
   "source": [
    "Overcast = 0\n",
    "Sunny = 2\n",
    "Rainy = 1\n",
    "Hot = 1\n",
    "Mild = 0\n",
    "Cool = 1\n",
    "Weath = input(\"Enter the weather type : \\nEnter 0 for Overcast \\nEnter 1 for Rainy \\nEnter 2 for Sunny \\n\")\n",
    "Temp = input(\"Now, Enter the weather type : \\nEnter 0 for Mild \\nEnter 1 for Hot \\nEnter 2 for Cool \\n\")\n",
    "pred = my_model.predict([[Weath,Temp]])      # where \"0 = Overcast\" & \"1 = Hot\"\n",
    "if pred == [1]:\n",
    "    print('\\033[92m'+'\\033[1m'+\"\\n\\n*PLAYERS CAN PLAY THE GAME*\")\n",
    "else:\n",
    "    print('\\033[91m'+'\\033[1m'+'\\n\\n*PLAYERS CAN NOT BE PLAY THE GAME*')"
   ]
  },
  {
   "cell_type": "markdown",
   "id": "4ac26e1c",
   "metadata": {},
   "source": [
    "#                   -----------------                 THANK YOU             ------------------"
   ]
  }
 ],
 "metadata": {
  "kernelspec": {
   "display_name": "Python 3 (ipykernel)",
   "language": "python",
   "name": "python3"
  },
  "language_info": {
   "codemirror_mode": {
    "name": "ipython",
    "version": 3
   },
   "file_extension": ".py",
   "mimetype": "text/x-python",
   "name": "python",
   "nbconvert_exporter": "python",
   "pygments_lexer": "ipython3",
   "version": "3.9.12"
  }
 },
 "nbformat": 4,
 "nbformat_minor": 5
}
